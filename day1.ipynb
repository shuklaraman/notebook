{
 "cells": [
  {
   "cell_type": "code",
   "execution_count": 2,
   "id": "8ed9627d",
   "metadata": {},
   "outputs": [
    {
     "name": "stdout",
     "output_type": "stream",
     "text": [
      "[2002, 2009, 2016, 2023, 2037, 2044, 2051, 2058, 2072, 2079, 2086, 2093, 2107, 2114, 2121, 2128, 2142, 2149, 2156, 2163, 2177, 2184, 2191, 2198, 2212, 2219, 2226, 2233, 2247, 2254, 2261, 2268, 2282, 2289, 2296, 2303, 2317, 2324, 2331, 2338, 2352, 2359, 2366, 2373, 2387, 2394, 2401, 2408, 2422, 2429, 2436, 2443, 2457, 2464, 2471, 2478, 2492, 2499, 2506, 2513, 2527, 2534, 2541, 2548, 2562, 2569, 2576, 2583, 2597, 2604, 2611, 2618, 2632, 2639, 2646, 2653, 2667, 2674, 2681, 2688, 2702, 2709, 2716, 2723, 2737, 2744, 2751, 2758, 2772, 2779, 2786, 2793, 2807, 2814, 2821, 2828, 2842, 2849, 2856, 2863, 2877, 2884, 2891, 2898, 2912, 2919, 2926, 2933, 2947, 2954, 2961, 2968, 2982, 2989, 2996, 3003, 3017, 3024, 3031, 3038, 3052, 3059, 3066, 3073, 3087, 3094, 3101, 3108, 3122, 3129, 3136, 3143, 3157, 3164, 3171, 3178, 3192, 3199]\n"
     ]
    }
   ],
   "source": [
    "#Write a program which will find all such numbers which are divisible by 7 but are not a multiple of 5,\n",
    "#between 2000 and 3200 (both included).\n",
    "#The numbers obtained should be printed in a comma-separated sequence on a single line.\n",
    "\n",
    "\n",
    "l=[]\n",
    "\n",
    "for i in range(2000,3201):\n",
    "    if i%7==0 and i%5 !=0:\n",
    "        l.append(i)\n",
    "print(l) "
   ]
  },
  {
   "cell_type": "code",
   "execution_count": 3,
   "id": "99b9db7b",
   "metadata": {},
   "outputs": [
    {
     "name": "stdout",
     "output_type": "stream",
     "text": [
      "2002,2009,2016,2023,2037,2044,2051,2058,2072,2079,2086,2093,2107,2114,2121,2128,2142,2149,2156,2163,2177,2184,2191,2198,2212,2219,2226,2233,2247,2254,2261,2268,2282,2289,2296,2303,2317,2324,2331,2338,2352,2359,2366,2373,2387,2394,2401,2408,2422,2429,2436,2443,2457,2464,2471,2478,2492,2499,2506,2513,2527,2534,2541,2548,2562,2569,2576,2583,2597,2604,2611,2618,2632,2639,2646,2653,2667,2674,2681,2688,2702,2709,2716,2723,2737,2744,2751,2758,2772,2779,2786,2793,2807,2814,2821,2828,2842,2849,2856,2863,2877,2884,2891,2898,2912,2919,2926,2933,2947,2954,2961,2968,2982,2989,2996,3003,3017,3024,3031,3038,3052,3059,3066,3073,3087,3094,3101,3108,3122,3129,3136,3143,3157,3164,3171,3178,3192,3199\n"
     ]
    }
   ],
   "source": [
    "l=[]\n",
    "for i in range(2000, 3201):\n",
    "    if (i%7==0) and (i%5!=0):\n",
    "        l.append(str(i))\n",
    "\n",
    "print( ','.join(l))"
   ]
  },
  {
   "cell_type": "code",
   "execution_count": 4,
   "id": "c817a09d",
   "metadata": {},
   "outputs": [
    {
     "name": "stdout",
     "output_type": "stream",
     "text": [
      "2002,2009,2016,2023,2037,2044,2051,2058,2072,2079,2086,2093,2107,2114,2121,2128,2142,2149,2156,2163,2177,2184,2191,2198,2212,2219,2226,2233,2247,2254,2261,2268,2282,2289,2296,2303,2317,2324,2331,2338,2352,2359,2366,2373,2387,2394,2401,2408,2422,2429,2436,2443,2457,2464,2471,2478,2492,2499,2506,2513,2527,2534,2541,2548,2562,2569,2576,2583,2597,2604,2611,2618,2632,2639,2646,2653,2667,2674,2681,2688,2702,2709,2716,2723,2737,2744,2751,2758,2772,2779,2786,2793,2807,2814,2821,2828,2842,2849,2856,2863,2877,2884,2891,2898,2912,2919,2926,2933,2947,2954,2961,2968,2982,2989,2996,3003,3017,3024,3031,3038,3052,3059,3066,3073,3087,3094,3101,3108,3122,3129,3136,3143,3157,3164,3171,3178,3192,3199\n"
     ]
    }
   ],
   "source": [
    "for i in range(2000, 3201):\n",
    "    if (i % 7 == 0) & (i % 5 != 0):\n",
    "        if i != 3199:\n",
    "            print(i, end=\",\")\n",
    "        else:\n",
    "            print(i)\n",
    "# end=\"\\r\"  means moving curson to the staring  "
   ]
  },
  {
   "cell_type": "code",
   "execution_count": 5,
   "id": "1922a458",
   "metadata": {},
   "outputs": [
    {
     "name": "stdout",
     "output_type": "stream",
     "text": [
      "2002,2009,2016,2023,2037,2044,2051,2058,2072,2079,2086,2093,2107,2114,2121,2128,2142,2149,2156,2163,2177,2184,2191,2198,2212,2219,2226,2233,2247,2254,2261,2268,2282,2289,2296,2303,2317,2324,2331,2338,2352,2359,2366,2373,2387,2394,2401,2408,2422,2429,2436,2443,2457,2464,2471,2478,2492,2499,2506,2513,2527,2534,2541,2548,2562,2569,2576,2583,2597,2604,2611,2618,2632,2639,2646,2653,2667,2674,2681,2688,2702,2709,2716,2723,2737,2744,2751,2758,2772,2779,2786,2793,2807,2814,2821,2828,2842,2849,2856,2863,2877,2884,2891,2898,2912,2919,2926,2933,2947,2954,2961,2968,2982,2989,2996,3003,3017,3024,3031,3038,3052,3059,3066,3073,3087,3094,3101,3108,3122,3129,3136,3143,3157,3164,3171,3178,3192,3199,"
     ]
    }
   ],
   "source": [
    "for i in range(2000, 3201):\n",
    "    if (i % 7 == 0) & (i % 5 != 0):\n",
    "        if i != 3200:\n",
    "            print(i, end=\",\")\n",
    "        else:\n",
    "            print(i, end=\"\")"
   ]
  },
  {
   "cell_type": "code",
   "execution_count": 6,
   "id": "3d5be400",
   "metadata": {},
   "outputs": [
    {
     "name": "stdout",
     "output_type": "stream",
     "text": [
      "6\n",
      "720\n"
     ]
    }
   ],
   "source": [
    "#Question:\n",
    "#Write a program which can compute the factorial of a given numbers.\n",
    "#The results should be printed in a comma-separated sequence on a single line.\n",
    "#Suppose the following input is supplied to the program:\n",
    "#8\n",
    "#Then, the output should be:\n",
    "#40320\n",
    "\n",
    "def factorial(x):\n",
    "    if x == 0:\n",
    "        return 1\n",
    "    return x * factorial(x - 1)  #recursive call\n",
    "\n",
    "x=int(input())\n",
    "print(factorial(x))"
   ]
  },
  {
   "cell_type": "code",
   "execution_count": 7,
   "id": "b6aa1532",
   "metadata": {},
   "outputs": [
    {
     "name": "stdout",
     "output_type": "stream",
     "text": [
      "6\n",
      "720\n"
     ]
    }
   ],
   "source": [
    "def fact1(x):\n",
    "    result = 1\n",
    "    for i in range(1, x + 1):\n",
    "        result *= i\n",
    "    return result\n",
    "\n",
    "x = int(input())\n",
    "print(fact1(x))"
   ]
  },
  {
   "cell_type": "code",
   "execution_count": 8,
   "id": "5c80a9e5",
   "metadata": {},
   "outputs": [
    {
     "name": "stdout",
     "output_type": "stream",
     "text": [
      "raman###iti###mishra\n"
     ]
    }
   ],
   "source": [
    "l=[\"raman\", \"iti\", \"mishra\"]\n",
    "print( '###'.join(l))"
   ]
  },
  {
   "cell_type": "code",
   "execution_count": 9,
   "id": "26302aad",
   "metadata": {},
   "outputs": [
    {
     "name": "stdout",
     "output_type": "stream",
     "text": [
      "6\n",
      "{1: 1, 2: 4, 3: 9, 4: 16, 5: 25, 6: 36}\n"
     ]
    }
   ],
   "source": [
    "#With a given integral number n, write a program to generate a dictionary that contains (i, i*i) such that is an integral number between 1 and n (both included). and then the program should print the dictionary.\n",
    "#Suppose the following input is supplied to the program:\n",
    "#8\n",
    "#Then, the output should be:\n",
    "#{1: 1, 2: 4, 3: 9, 4: 16, 5: 25, 6: 36, 7: 49, 8: 64}\n",
    "\n",
    "n=int(input())\n",
    "dic={}\n",
    "for i in range(1,n+1):\n",
    "    dic[i]=i*i\n",
    "print(dic)   "
   ]
  },
  {
   "cell_type": "code",
   "execution_count": 10,
   "id": "ee5080e1",
   "metadata": {},
   "outputs": [
    {
     "name": "stdout",
     "output_type": "stream",
     "text": [
      "{2: 4}\n"
     ]
    },
    {
     "data": {
      "text/plain": [
       "{2: 4, 3: 9}"
      ]
     },
     "execution_count": 10,
     "metadata": {},
     "output_type": "execute_result"
    }
   ],
   "source": [
    "#key = 2, value = 4, dict\n",
    "dict={2:4}\n",
    "print(dict)\n",
    "dict[3]=9\n",
    "dict"
   ]
  },
  {
   "cell_type": "code",
   "execution_count": 11,
   "id": "bdb5375c",
   "metadata": {},
   "outputs": [
    {
     "name": "stdout",
     "output_type": "stream",
     "text": [
      "{'m': 3, 'y': 1, ' ': 3, 'n': 2, 'a': 3, 'e': 1, 'i': 1, 's': 1, 'r': 1}\n"
     ]
    }
   ],
   "source": [
    "# count the letter in string\n",
    "str = \"my name is raman\"\n",
    "dict={}\n",
    "for i in str:\n",
    "    if i in dict:\n",
    "        dict[i] += 1\n",
    "    else:\n",
    "        dict[i]=1\n",
    "print(dict)"
   ]
  },
  {
   "cell_type": "code",
   "execution_count": 12,
   "id": "cca56bc0",
   "metadata": {},
   "outputs": [
    {
     "name": "stdout",
     "output_type": "stream",
     "text": [
      "{'my': 2, 'name': 1, 'is': 1, 'raman': 1}\n"
     ]
    }
   ],
   "source": [
    "# count the words\n",
    "\n",
    "str1 = \"my name is raman my\"\n",
    "a = str1.split() # type of a will be list\n",
    "\n",
    "dict={}\n",
    "for i in a:\n",
    "    if i in dict:\n",
    "        dict[i] += 1\n",
    "    else:\n",
    "        dict[i]=1\n",
    "print(dict)"
   ]
  },
  {
   "cell_type": "code",
   "execution_count": 13,
   "id": "bb52bbce",
   "metadata": {},
   "outputs": [
    {
     "name": "stdout",
     "output_type": "stream",
     "text": [
      "['your', 'string', 'here']\n"
     ]
    }
   ],
   "source": [
    "str1 = \"your string here\"\n",
    "a = str1.split(\" \")\n",
    "print(a)"
   ]
  },
  {
   "cell_type": "code",
   "execution_count": 14,
   "id": "b8f80db4",
   "metadata": {},
   "outputs": [
    {
     "name": "stdout",
     "output_type": "stream",
     "text": [
      "{'m': 4, 'y': 2, 'n': 2, 'a': 3, 'e': 1, 'i': 1, 's': 1, 'r': 1}\n"
     ]
    }
   ],
   "source": [
    "#dont count spaces\n",
    "str1 = \"my name is raman my\"\n",
    "a = list(str1)\n",
    "dict={}\n",
    "for i in a:\n",
    "    if i != ' ':\n",
    "        if i in dict:\n",
    "            dict[i] += 1\n",
    "        else:\n",
    "            dict[i]=1\n",
    "print(dict)  "
   ]
  },
  {
   "cell_type": "code",
   "execution_count": 15,
   "id": "5dea0816",
   "metadata": {},
   "outputs": [
    {
     "name": "stdout",
     "output_type": "stream",
     "text": [
      "H1e2l3l4o5w6o7r8l9d\n",
      "Helloworld\n"
     ]
    }
   ],
   "source": [
    "# write a program which accepts a string from console and print the characters that have even indexes.\n",
    "\n",
    "#If the following string is given as input to the program:\n",
    "#H1e2l3l4o5w6o7r8l9d\n",
    "#Then, the output of the program should be:\n",
    "#Helloworld\n",
    "\n",
    "s=input()\n",
    "s = s[::2]\n",
    "print(s)"
   ]
  },
  {
   "cell_type": "code",
   "execution_count": 1,
   "id": "1d44e7e4",
   "metadata": {},
   "outputs": [
    {
     "name": "stdout",
     "output_type": "stream",
     "text": [
      "45,58,52\n",
      "12,14,13\n"
     ]
    }
   ],
   "source": [
    "#Question:\n",
    "#Write a program that calculates and prints the value according to the given formula:\n",
    "#Q = Square root of [(2 * C * D)/H]\n",
    "#Following are the fixed values of C and H:\n",
    "#C is 50. H is 30.\n",
    "#D is the variable whose values should be input to your program in a comma-separated sequence.\n",
    "#Example\n",
    "#Let us assume the following comma separated input sequence is given to the program:\n",
    "#100,150,180\n",
    "#The output of the program should be:\n",
    "#18,22,24\n",
    "#\n",
    "#Hints:\n",
    "#If the output received is in decimal form, it should be rounded off to i5ts nearest value (for example, if the output received is 26.0, it should be printed as 26)\n",
    "#In case of input data being supplied to the question, it should be assumed to be a console input.'''''' \n",
    "import math\n",
    "D = input()\n",
    "a= D.split(\",\")\n",
    "l=[]\n",
    "for i in a:\n",
    "    Q = math.sqrt((2*50*int(i))/30)\n",
    "    a = round(Q)\n",
    "    c=str(a)\n",
    "    l.append(c)\n",
    "print(','.join(l)) "
   ]
  },
  {
   "cell_type": "code",
   "execution_count": 2,
   "id": "0daee570",
   "metadata": {},
   "outputs": [
    {
     "name": "stdout",
     "output_type": "stream",
     "text": [
      "45,58,52\n",
      "12,14,13\n"
     ]
    }
   ],
   "source": [
    "import math\n",
    "user = input()\n",
    "l=[]\n",
    "value = [x for x in user.split(\",\")]   \n",
    "for i in value:\n",
    "    l.append(str(round(math.sqrt(((2*50*float(i))/30)))))\n",
    "print(','.join(l))   "
   ]
  },
  {
   "cell_type": "code",
   "execution_count": 1,
   "id": "521855e3",
   "metadata": {},
   "outputs": [
    {
     "name": "stdout",
     "output_type": "stream",
     "text": [
      "55 65 23 85 12\n",
      "['12', '65', '23', '85', '55']\n",
      "55,65,23,85,12\n"
     ]
    }
   ],
   "source": [
    "# Python3 program to swap first\n",
    "# and last element of a list\n",
    "\n",
    "lisit = input()\n",
    "\n",
    "lst = lisit.split(\" \")\n",
    "\n",
    "def swap(lst):\n",
    "    \n",
    "    lenght = len(lst)\n",
    "    \n",
    "    temp = lst[lenght-1]\n",
    "    lst[lenght-1]= lst[0]\n",
    "    lst[0]=temp\n",
    "    \n",
    "    return lst\n",
    "print(swap(lst))\n",
    "print( ','.join(swap(lst)))"
   ]
  },
  {
   "cell_type": "code",
   "execution_count": 2,
   "id": "cda94cce",
   "metadata": {},
   "outputs": [
    {
     "name": "stdout",
     "output_type": "stream",
     "text": [
      "Enter elements of the list separated by space: 6 5 4\n",
      "['4', '5', '6']\n",
      "6,5,4\n"
     ]
    }
   ],
   "source": [
    "# Python3 program to swap first\n",
    "# and last element of a list\n",
    "\n",
    "lisit = input(\"Enter elements of the list separated by space: \")\n",
    "\n",
    "lst = lisit.split(\" \")\n",
    "\n",
    "def swap(lst):\n",
    "    length = len(lst)\n",
    "    \n",
    "    # Swap first and last element\n",
    "    temp = lst[length - 1]\n",
    "    lst[length - 1] = lst[0]\n",
    "    lst[0] = temp\n",
    "    \n",
    "    return lst\n",
    "\n",
    "print(swap(lst))\n",
    "print( ','.join(swap(lst)))"
   ]
  },
  {
   "cell_type": "code",
   "execution_count": 3,
   "id": "59ed618f",
   "metadata": {},
   "outputs": [
    {
     "name": "stdout",
     "output_type": "stream",
     "text": [
      "15\n"
     ]
    },
    {
     "data": {
      "text/plain": [
       "str"
      ]
     },
     "execution_count": 3,
     "metadata": {},
     "output_type": "execute_result"
    }
   ],
   "source": [
    "a=10\n",
    "b =\"%s\" % 15\n",
    "print(b)\n",
    "type(b)"
   ]
  },
  {
   "cell_type": "code",
   "execution_count": 4,
   "id": "e480bfa6",
   "metadata": {},
   "outputs": [
    {
     "name": "stdout",
     "output_type": "stream",
     "text": [
      "9\n",
      "11106\n"
     ]
    }
   ],
   "source": [
    "  # isalpha isupper islower isdigit\n",
    "    \n",
    "#Write a program that computes the value of a+aa+aaa+aaaa with a given digit as the value of a.\n",
    "#Suppose the following input is supplied to the program:\n",
    "#9\n",
    "#Then, the output should be:\n",
    "#11106\n",
    "inpt = int(input())\n",
    "\n",
    "a =  int(\"%s\" % inpt)\n",
    "b =  int(\"%s%s\" % (inpt,inpt))\n",
    "c =  int(\"%s%s%s\" % (inpt, inpt, inpt))\n",
    "d =  int(\"%s%s%s%s\" % (inpt, inpt, inpt, inpt))\n",
    "print(a+b+c+d)\n"
   ]
  },
  {
   "cell_type": "code",
   "execution_count": 5,
   "id": "355494c9",
   "metadata": {},
   "outputs": [
    {
     "name": "stdout",
     "output_type": "stream",
     "text": [
      "RamaN SHUkla\n",
      "UPPER CASE  5\n",
      "LOWER CASE  6\n"
     ]
    }
   ],
   "source": [
    "#Write a program that accepts a sentence and calculate the number of upper case letters and lower case letters.\n",
    "#Suppose the following input is supplied to the program:\n",
    "#Hello world!\n",
    "#Then, the output should be:\n",
    "#UPPER CASE 1\n",
    "#LOWER CASE 9\n",
    "\n",
    "inp = input()\n",
    "\n",
    "d ={\"uppercase\":0 , \"lowecase\":0}\n",
    "for i in inp:\n",
    "    if i.isupper():\n",
    "        d[\"uppercase\"]=d[\"uppercase\"]+1\n",
    "    elif i.islower():\n",
    "        d[\"lowecase\"]=d[\"lowecase\"]+1\n",
    "print(\"UPPER CASE \", d[\"uppercase\"])\n",
    "print(\"LOWER CASE \", d[\"lowecase\"])"
   ]
  },
  {
   "cell_type": "code",
   "execution_count": 6,
   "id": "7f33be8b",
   "metadata": {},
   "outputs": [],
   "source": [
    "d1= {\"a\":\"e\", \"b\": 2}"
   ]
  },
  {
   "cell_type": "code",
   "execution_count": 8,
   "id": "19e7c078",
   "metadata": {},
   "outputs": [
    {
     "data": {
      "text/plain": [
       "dict_items([('a', 'e'), ('b', 2)])"
      ]
     },
     "execution_count": 8,
     "metadata": {},
     "output_type": "execute_result"
    }
   ],
   "source": [
    "d1.items()"
   ]
  },
  {
   "cell_type": "code",
   "execution_count": 9,
   "id": "a45471d0",
   "metadata": {},
   "outputs": [
    {
     "name": "stdout",
     "output_type": "stream",
     "text": [
      "eeaiou ramanS\n",
      "8\n"
     ]
    }
   ],
   "source": [
    "# 𝗥𝗲𝘃𝗲𝗿𝘀𝗶𝗻𝗴 𝘁𝗵𝗲 𝘄𝗼𝗿𝗱𝘀 𝗶𝗻 𝗮 𝘀𝘁𝗿𝗶𝗻𝗴 𝗶𝗻 𝗣𝘆𝘁𝗵𝗼𝗻\n",
    "#  𝗪𝗿𝗶𝘁𝗲 𝗮 𝗣𝘆𝘁𝗵𝗼𝗻 𝗳𝘂𝗻𝗰𝘁𝗶𝗼𝗻 𝘁𝗼 𝗰𝗼𝘂𝗻𝘁 𝘁𝗵𝗲 𝗻𝘂𝗺𝗯𝗲𝗿 𝗼𝗳 𝘃𝗼𝘄𝗲𝗹𝘀 𝗶𝗻 𝗮 𝗴𝗶𝘃𝗲𝗻 𝘀𝘁𝗿𝗶𝗻𝗴?\n",
    "#  Find the common letters between two strings:\n",
    "#  RAMAN\n",
    "#  SATYA\n",
    "\n",
    "inp = input()\n",
    "\n",
    "count=0\n",
    "a= \"aeiouAEIOU\"\n",
    "for i in inp:\n",
    "    if i in a:\n",
    "        #count = count +1\n",
    "        count +=1\n",
    "    pass\n",
    "print(count)  "
   ]
  },
  {
   "cell_type": "code",
   "execution_count": 10,
   "id": "202897b3",
   "metadata": {},
   "outputs": [
    {
     "name": "stdout",
     "output_type": "stream",
     "text": [
      "ramkkl\n",
      "lkkmar\n"
     ]
    }
   ],
   "source": [
    "inp = input()\n",
    "\n",
    "s = inp[::-1]\n",
    "print(s)"
   ]
  },
  {
   "cell_type": "code",
   "execution_count": 11,
   "id": "a6beb792",
   "metadata": {},
   "outputs": [
    {
     "name": "stdout",
     "output_type": "stream",
     "text": [
      "dftg\n",
      "dftr\n",
      "{'d', 't', 'f'}\n"
     ]
    }
   ],
   "source": [
    "a =input()\n",
    "b=input()\n",
    "\n",
    "lst =[]\n",
    "\n",
    "for i in a:\n",
    "    if i in b:\n",
    "        lst.append(i)\n",
    "print(set(lst))  "
   ]
  },
  {
   "cell_type": "code",
   "execution_count": 13,
   "id": "7ed281bf",
   "metadata": {},
   "outputs": [
    {
     "name": "stdout",
     "output_type": "stream",
     "text": [
      "Iti loves eating apple and mango.Raman also loves eating apple and mango\n",
      "{'Iti': 1, 'loves': 2, 'eating': 2, 'apple': 2, 'and': 2, 'mango.Raman': 1, 'also': 1, 'mango': 1}\n"
     ]
    }
   ],
   "source": [
    "#write a python program to count the frequency of words appearing in a string\n",
    "#eg. - Iti loves eating apple and mango.Raman also loves eating apple and mango\n",
    "\n",
    "\n",
    "inp =input()\n",
    "\n",
    "l = inp.split(\" \")\n",
    "\n",
    "d ={}\n",
    "\n",
    "for i in l:\n",
    "    if i != \" \":\n",
    "        pass\n",
    "    if i in d:\n",
    "        d[i] +=1\n",
    "    else:\n",
    "        d[i]= 1\n",
    "print(d)        \n"
   ]
  },
  {
   "cell_type": "code",
   "execution_count": 14,
   "id": "ebcc6af3",
   "metadata": {},
   "outputs": [
    {
     "name": "stdout",
     "output_type": "stream",
     "text": [
      "{1: 'one', 2: 'two', 3: 'three', 4: 'hhj'} [(1, 'one'), (2, 'two'), (3, 'three'), (4, 'hhj')]\n"
     ]
    }
   ],
   "source": [
    " #1. Conversion of two list into Dictionary and tuples Using Python, a = [1,2,3] b=[\"one\",\"two\",\"three\"]\n",
    "#2. FIND MISSING NUMBER IN AN ARRAY IN PYTHON, a = [1,2,4,5,6,7,8]\n",
    "#3. Find Out Pairs with given sum value of an array in python of time complexity O(n log n)- \n",
    "#FACEBOOK,AMAZON e.g. a = [5,7,4,3,9,8,19,21], sum = 17\n",
    "#4. Remove Duplicates In Python - with and without using set function\n",
    "#5. Find Prime numbers list from range 50-120\n",
    "#6. Find the factorial of numbers from 12-24\n",
    "\n",
    "\n",
    "a = [1,2,3,4]\n",
    "b=[\"one\",\"two\",\"three\",\"hhj\"]\n",
    "\n",
    "dict ={}\n",
    "l=[]\n",
    "\n",
    "for i in range(len(a)):\n",
    "    for j in range(len(b)):\n",
    "        if j == i:\n",
    "            dict[a[i]]=b[j]\n",
    "            l.append((a[i],b[j]))\n",
    "print(dict, l)            "
   ]
  },
  {
   "cell_type": "code",
   "execution_count": 15,
   "id": "04b396d2",
   "metadata": {},
   "outputs": [
    {
     "name": "stdout",
     "output_type": "stream",
     "text": [
      "(1, 2, 3, 'one', 'two', 'three')\n"
     ]
    }
   ],
   "source": [
    "a = [1,2,3]\n",
    "b=[\"one\",\"two\",\"three\"]\n",
    "\n",
    "c = tuple(a)+tuple(b)\n",
    "print(c)"
   ]
  },
  {
   "cell_type": "code",
   "execution_count": 16,
   "id": "53f7e91b",
   "metadata": {},
   "outputs": [
    {
     "name": "stdout",
     "output_type": "stream",
     "text": [
      "[3]\n"
     ]
    }
   ],
   "source": [
    "a = [1,2,4,5,6,7,8,10]\n",
    "\n",
    "lst =[]\n",
    "\n",
    "for i in range(1 , len(a)):\n",
    "    if i in a:\n",
    "        pass\n",
    "    else:\n",
    "        lst.append(i)\n",
    "print(lst)  "
   ]
  },
  {
   "cell_type": "code",
   "execution_count": 17,
   "id": "6edf87aa",
   "metadata": {},
   "outputs": [
    {
     "name": "stdout",
     "output_type": "stream",
     "text": [
      "{}\n"
     ]
    }
   ],
   "source": [
    "# Find Out Pairs with given sum value of an array in python of time complexity O(n log n)- \n",
    "# FACEBOOK,AMAZON e.g. a = [5,7,4,3,9,8,19,21], sum = 17\n",
    "\n",
    "dict ={}\n",
    "\n",
    "b=1  \n",
    "\n",
    "\n",
    "for i in a:\n",
    "    for j in a[b::]:\n",
    "        if i+j == 17:\n",
    "            dict[i]=j\n",
    "        b=b+1\n",
    "print(dict) "
   ]
  },
  {
   "cell_type": "code",
   "execution_count": 18,
   "id": "d40047bc",
   "metadata": {},
   "outputs": [
    {
     "name": "stdout",
     "output_type": "stream",
     "text": [
      "{2, 3, 4, 5, 6, 7, 8, 9}\n",
      "[2, 3, 4, 5, 6, 7, 8, 9]\n"
     ]
    }
   ],
   "source": [
    " #4. Remove Duplicates In Python - with and without using set function\n",
    "\n",
    "lst =[2,3,4,5,2,6,7,7,7,8,8,9,4]    \n",
    "\n",
    "lst1 = set(lst)\n",
    "print(lst1)\n",
    "\n",
    "lst2= []\n",
    "\n",
    "for i in lst:\n",
    "    if i in lst2:\n",
    "        pass\n",
    "    else:\n",
    "        lst2.append(i)\n",
    "print(lst2)     "
   ]
  },
  {
   "cell_type": "code",
   "execution_count": 19,
   "id": "a866329e",
   "metadata": {},
   "outputs": [
    {
     "name": "stdout",
     "output_type": "stream",
     "text": [
      "[53, 59, 61, 67, 71, 73, 79, 83, 89, 97, 101, 103, 107, 109, 113]\n"
     ]
    }
   ],
   "source": [
    " #Find Prime numbers list from range 50-120\n",
    "    \n",
    "prime= []\n",
    "for i in range(50,121):\n",
    "    count = 0\n",
    "    for j in range(2,i):\n",
    "        if i%j==0:\n",
    "            count=1  \n",
    "            break\n",
    "    if count ==1:\n",
    "            pass\n",
    "    else:\n",
    "        prime.append(i)\n",
    "print(prime)     "
   ]
  },
  {
   "cell_type": "code",
   "execution_count": 20,
   "id": "b0f55dfc",
   "metadata": {},
   "outputs": [
    {
     "name": "stdout",
     "output_type": "stream",
     "text": [
      "479001600\n",
      "6227020800\n",
      "87178291200\n",
      "1307674368000\n",
      "20922789888000\n",
      "355687428096000\n",
      "6402373705728000\n",
      "121645100408832000\n",
      "2432902008176640000\n",
      "51090942171709440000\n",
      "1124000727777607680000\n",
      "25852016738884976640000\n",
      "620448401733239439360000\n"
     ]
    }
   ],
   "source": [
    "#Find the factorial of numbers from 12-24\n",
    "\n",
    "def fact(number):\n",
    "    if number == 0:\n",
    "        return 1\n",
    "    return number*fact(number-1)\n",
    "\n",
    "for i in range(12,25):\n",
    "    print(fact(i))\n",
    "    "
   ]
  },
  {
   "cell_type": "code",
   "execution_count": 21,
   "id": "81853ecf",
   "metadata": {},
   "outputs": [
    {
     "name": "stdout",
     "output_type": "stream",
     "text": [
      "[(9, 8)]\n"
     ]
    }
   ],
   "source": [
    "a = [5, 7, 4, 3, 9, 8, 19, 21]\n",
    "sum_value = 17\n",
    "pairs = []\n",
    "\n",
    "for i in range(len(a)):\n",
    "    for j in range(i + 1, len(a)):\n",
    "        if a[i] + a[j] == sum_value:\n",
    "            pairs.append((a[i], a[j]))\n",
    "\n",
    "print(pairs)"
   ]
  },
  {
   "cell_type": "code",
   "execution_count": 22,
   "id": "a240abe2",
   "metadata": {},
   "outputs": [
    {
     "name": "stdout",
     "output_type": "stream",
     "text": [
      "56\n",
      "not prime\n"
     ]
    }
   ],
   "source": [
    "intt = int(input())\n",
    "count = 0\n",
    "for i in range(2,intt):\n",
    "    if intt%i == 0:\n",
    "        count = 1\n",
    "        break\n",
    "if count == 0:\n",
    "    print(\"prime\")\n",
    "else:\n",
    "    print(\"not prime\")"
   ]
  },
  {
   "cell_type": "code",
   "execution_count": 23,
   "id": "c1e5cb55",
   "metadata": {},
   "outputs": [],
   "source": [
    "# 1. Length of Last Word - a =\"Hi my name is itishukla\"\n",
    "# 2. Find Prime numbers list from range 50-120\n",
    "# 3. ind Out Pairs with given sum value of an array in python of time complexity O(n log n)- FACEBOOK,AMAZON e.g. a = [5,7,4,3,9,8,19,21], sum = 17\n",
    "# 4. Find Maximum  Element In list \n",
    "# 5. Find Minimum Element In list \n",
    "# 6. Reverse words in a string"
   ]
  },
  {
   "cell_type": "code",
   "execution_count": 24,
   "id": "9825c24c",
   "metadata": {},
   "outputs": [
    {
     "name": "stdout",
     "output_type": "stream",
     "text": [
      "2\n"
     ]
    },
    {
     "data": {
      "text/plain": [
       "'si'"
      ]
     },
     "execution_count": 24,
     "metadata": {},
     "output_type": "execute_result"
    }
   ],
   "source": [
    "a =\"Hi my name is itishuklaaa is\"\n",
    "\n",
    "b = a.split(\" \")\n",
    "\n",
    "c= b[len(b)-1]\n",
    "\n",
    "print(len(c))\n",
    "\n",
    "c[::-1]"
   ]
  },
  {
   "cell_type": "code",
   "execution_count": 25,
   "id": "5378e7ce",
   "metadata": {},
   "outputs": [
    {
     "name": "stdout",
     "output_type": "stream",
     "text": [
      "[53, 59, 61, 67, 71, 73, 79, 83, 89, 97, 101, 103, 107, 109, 113]\n"
     ]
    }
   ],
   "source": [
    "l=[]\n",
    "\n",
    "for i in range(50,121):\n",
    "    count = 0\n",
    "    for j in range(2,i):\n",
    "        if i%j==0:\n",
    "            count = 1\n",
    "            break\n",
    "    if count == 0:\n",
    "        l.append(i)\n",
    "print(l)"
   ]
  },
  {
   "cell_type": "code",
   "execution_count": 26,
   "id": "a2105d74",
   "metadata": {},
   "outputs": [
    {
     "name": "stdout",
     "output_type": "stream",
     "text": [
      "[(9, 8)]\n"
     ]
    }
   ],
   "source": [
    "total = 17\n",
    "l = []\n",
    "\n",
    "a = [5,7,4,3,9,8,19,21]\n",
    "\n",
    "\n",
    "for i in range(len(a)):\n",
    "    for j in range(i + 1, len(a)):\n",
    "        if a[i] + a[j] == total:\n",
    "            l.append((a[i], a[j]))\n",
    "\n",
    "print(l)"
   ]
  },
  {
   "cell_type": "code",
   "execution_count": 27,
   "id": "8c8d5e7d",
   "metadata": {},
   "outputs": [
    {
     "name": "stdout",
     "output_type": "stream",
     "text": [
      "121\n"
     ]
    }
   ],
   "source": [
    "a = [5,121,7,4,3,9,8,19,21,21,23]\n",
    "\n",
    "b = a[0]\n",
    "\n",
    "for i in a:\n",
    "    if i>b:\n",
    "        b=i\n",
    "    else:\n",
    "        pass\n",
    "print(b) "
   ]
  },
  {
   "cell_type": "code",
   "execution_count": 28,
   "id": "9e91c30c",
   "metadata": {},
   "outputs": [
    {
     "name": "stdout",
     "output_type": "stream",
     "text": [
      "3\n"
     ]
    }
   ],
   "source": [
    "a = [5,7,4,3,9,8,19,21]\n",
    "\n",
    "b = a[0]\n",
    "\n",
    "for i in a:\n",
    "    if i<b:\n",
    "        b=i\n",
    "    else:\n",
    "        pass\n",
    "print(b)"
   ]
  },
  {
   "cell_type": "code",
   "execution_count": 29,
   "id": "d88a8e69",
   "metadata": {},
   "outputs": [
    {
     "name": "stdout",
     "output_type": "stream",
     "text": [
      "si namar"
     ]
    }
   ],
   "source": [
    "s=\"raman is\"\n",
    "\n",
    "for i in range(len(s)-1,-1,-1):\n",
    "    print(s[i], end=\"\")"
   ]
  },
  {
   "cell_type": "code",
   "execution_count": 30,
   "id": "0c379e44",
   "metadata": {},
   "outputs": [
    {
     "name": "stdout",
     "output_type": "stream",
     "text": [
      "namar evol iti "
     ]
    }
   ],
   "source": [
    "s=\"raman love iti\"\n",
    "\n",
    "l=s.split(\" \")\n",
    "\n",
    "for i in l:\n",
    "    for j in range(len(i)-1,-1,-1):\n",
    "        print(i[j], end=\"\")\n",
    "    print(end=\" \") "
   ]
  },
  {
   "cell_type": "code",
   "execution_count": null,
   "id": "fb10dd0d",
   "metadata": {},
   "outputs": [],
   "source": []
  }
 ],
 "metadata": {
  "kernelspec": {
   "display_name": "Python 3 (ipykernel)",
   "language": "python",
   "name": "python3"
  },
  "language_info": {
   "codemirror_mode": {
    "name": "ipython",
    "version": 3
   },
   "file_extension": ".py",
   "mimetype": "text/x-python",
   "name": "python",
   "nbconvert_exporter": "python",
   "pygments_lexer": "ipython3",
   "version": "3.11.5"
  }
 },
 "nbformat": 4,
 "nbformat_minor": 5
}

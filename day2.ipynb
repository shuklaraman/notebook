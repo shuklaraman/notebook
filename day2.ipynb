{
 "cells": [
  {
   "cell_type": "code",
   "execution_count": 2,
   "id": "4991dc16",
   "metadata": {},
   "outputs": [
    {
     "name": "stdout",
     "output_type": "stream",
     "text": [
      "* \n",
      "\n",
      "* * \n",
      "\n",
      "* * * \n",
      "\n"
     ]
    }
   ],
   "source": [
    "def tringle(n):\n",
    "    for i in range(0,n):\n",
    "        for j in range(0,i+1):\n",
    "            print(\"*\", end=\" \") \n",
    "        print(\"\\n\")\n",
    "tringle(3)        "
   ]
  },
  {
   "cell_type": "code",
   "execution_count": 3,
   "id": "a1490537",
   "metadata": {},
   "outputs": [
    {
     "name": "stdout",
     "output_type": "stream",
     "text": [
      "**********\n",
      "       * \n",
      "\n",
      "      * * \n",
      "\n",
      "     * * * \n",
      "\n",
      "    * * * * \n",
      "\n",
      "   * * * * * \n",
      "\n",
      "  * * * * * * \n",
      "\n",
      " * * * * * * * \n",
      "\n"
     ]
    }
   ],
   "source": [
    "def tri(n):\n",
    "    k= n\n",
    "    for i in range(0,n):\n",
    "       \n",
    "        for j in range(0,k):\n",
    "            print(end=\" \")\n",
    "        k=k-1\n",
    "        for j  in range(0,i+1) :\n",
    "            print(\"* \",end=\"\")\n",
    "        print(\"\\n\")\n",
    "print(\"**********\")            \n",
    "tri(7) "
   ]
  },
  {
   "cell_type": "code",
   "execution_count": 4,
   "id": "e3a19135",
   "metadata": {},
   "outputs": [
    {
     "name": "stdout",
     "output_type": "stream",
     "text": [
      "    * \n",
      "\n",
      "   * * \n",
      "\n",
      "  * * * \n",
      "\n",
      " * * * * \n",
      "\n",
      "* * * * * \n",
      "\n"
     ]
    }
   ],
   "source": [
    "def triangle(n):\n",
    "    \"\"\" this is tri called function \"\"\"\n",
    "    for i in range(n):\n",
    "        for j in range(n-i-1):\n",
    "            print(\" \",end=\"\")\n",
    "        for j in range(i+1):\n",
    "            print(\"*\", end=\" \")\n",
    "        print(\"\\n\")   \n",
    "triangle(5)  "
   ]
  },
  {
   "cell_type": "code",
   "execution_count": 5,
   "id": "f4d54e38",
   "metadata": {},
   "outputs": [
    {
     "name": "stdout",
     "output_type": "stream",
     "text": [
      "0 \n",
      "0 1 \n",
      "0 1 2 \n",
      "0 1 2 3 \n",
      "0 1 2 3 4 \n"
     ]
    }
   ],
   "source": [
    "def tri(n):\n",
    "    for i in range(n):\n",
    "        for j in range(i+1):\n",
    "            print(j,end=\" \")\n",
    "        print()  \n",
    "tri(5)        "
   ]
  },
  {
   "cell_type": "code",
   "execution_count": 6,
   "id": "8209bf33",
   "metadata": {},
   "outputs": [],
   "source": [
    "# 1. Write a program to find the square of the largest element in an array.\n",
    "# 2. Write a program to find the number of times a number exists in a list. \n",
    "# return in descending order of number of occurrences a number exists.\n",
    "# 3. write a program to find a number that is prime or not prime.\n",
    "# 4. write a program to delete duplicates and return the list without duplicates.\n",
    "# 5. Write a program to find the second large number in a list.\n",
    "# 6. Write a program to find the second-largest negative number in a list. numbers = [3, -5, -28, 7, -81, 4, -16]\n",
    "# 7. Write a program to reverse the order of words in a sentence.\n",
    "# 8. Write a program to count the lower and upper case characters in any text or sentence.\n",
    "# 9. Check if a String Is a Palindrome"
   ]
  },
  {
   "cell_type": "code",
   "execution_count": 7,
   "id": "b87e53cc",
   "metadata": {},
   "outputs": [
    {
     "name": "stdout",
     "output_type": "stream",
     "text": [
      "6,5,4\n",
      "['6', '5', '4']\n"
     ]
    },
    {
     "data": {
      "text/plain": [
       "str"
      ]
     },
     "execution_count": 7,
     "metadata": {},
     "output_type": "execute_result"
    }
   ],
   "source": [
    "# 1. Write a program to find the square of the largest element in an array.\n",
    "\n",
    "user_int = input()\n",
    "l = user_int.split(\",\")\n",
    "print(l)\n",
    "type(l[1])"
   ]
  },
  {
   "cell_type": "code",
   "execution_count": 8,
   "id": "881e795b",
   "metadata": {},
   "outputs": [
    {
     "name": "stdout",
     "output_type": "stream",
     "text": [
      "6,5,4\n",
      "16\n"
     ]
    }
   ],
   "source": [
    "user_int = input()\n",
    "l = user_int.split(\",\")\n",
    "\n",
    "for i in l:\n",
    "    a=int(i)\n",
    "    if int(i)>a:\n",
    "        a=int(i)\n",
    "    else:\n",
    "        pass\n",
    "sqr = a*a\n",
    "print(sqr) "
   ]
  },
  {
   "cell_type": "code",
   "execution_count": 10,
   "id": "d52e97f0",
   "metadata": {},
   "outputs": [
    {
     "name": "stdout",
     "output_type": "stream",
     "text": [
      "[(4, 4), (1, 3), (3, 3), (2, 3)]\n"
     ]
    }
   ],
   "source": [
    "# 2. Write a program to find the number of times a number exists in a list. \n",
    "# return in descending order of number of occurrences a number exists.\n",
    "\n",
    "from collections import Counter\n",
    "\n",
    "def count_occurrences(nums):\n",
    "    # Count the occurrences of each number using Counter\n",
    "    counts = Counter(nums)\n",
    "    \n",
    "    # Sort the counts in descending order of occurrences\n",
    "    sorted_counts = sorted(counts.items(), key=lambda x: x[1], reverse=True)\n",
    "    \n",
    "    return sorted_counts\n",
    "\n",
    "# Example usage\n",
    "nums = [1, 3, 2, 2, 3, 1, 4, 2, 3, 1, 4, 4, 4]\n",
    "result = count_occurrences(nums)\n",
    "print(result)"
   ]
  },
  {
   "cell_type": "code",
   "execution_count": 11,
   "id": "24179ed5",
   "metadata": {},
   "outputs": [
    {
     "name": "stdout",
     "output_type": "stream",
     "text": [
      "{1: 3, 3: 3, 2: 3, 4: 4}\n"
     ]
    }
   ],
   "source": [
    "nums = [1, 3, 2, 2, 3, 1, 4, 2, 3, 1, 4, 4, 4]\n",
    "\n",
    "dic ={}\n",
    "\n",
    "for i in nums:\n",
    "    if i in dic:\n",
    "        dic[i] = dic[i]+ 1\n",
    "    else :\n",
    "        dic[i] = 1\n",
    "print(dic)   "
   ]
  },
  {
   "cell_type": "code",
   "execution_count": 12,
   "id": "f680c214",
   "metadata": {},
   "outputs": [
    {
     "name": "stdout",
     "output_type": "stream",
     "text": [
      "5\n",
      "prime\n"
     ]
    }
   ],
   "source": [
    "# 3. write a program to find a number that is prime or not prime.\n",
    "\n",
    "number= int(input())\n",
    "\n",
    "for i in range (2, number):\n",
    "    if number%i==0:\n",
    "        flag = 1\n",
    "        break\n",
    "    else :\n",
    "        flag =0\n",
    "if (flag == 1):\n",
    "    print(\"not prime\")\n",
    "    \n",
    "else:\n",
    "    print(\"prime\")"
   ]
  },
  {
   "cell_type": "code",
   "execution_count": 13,
   "id": "19dd72d9",
   "metadata": {},
   "outputs": [
    {
     "name": "stdout",
     "output_type": "stream",
     "text": [
      "5,4,6,2,1,2,1,4,5,3,6,4,8,9,7,5,4,4\n"
     ]
    },
    {
     "data": {
      "text/plain": [
       "{1, 2, 3, 4, 5, 6, 7, 8, 9}"
      ]
     },
     "execution_count": 13,
     "metadata": {},
     "output_type": "execute_result"
    }
   ],
   "source": [
    "# 4. write a program to delete duplicates and return the list without duplicates.\n",
    "\n",
    "mylist = input()\n",
    "\n",
    "l1 = mylist.split(\",\")\n",
    "\n",
    "l2=[]\n",
    "\n",
    "for i in l1:\n",
    "    l2.append(int(i))\n",
    "set(l2)  "
   ]
  },
  {
   "cell_type": "code",
   "execution_count": 14,
   "id": "a5c46d60",
   "metadata": {},
   "outputs": [
    {
     "name": "stdout",
     "output_type": "stream",
     "text": [
      "5,4,6,8,9,12,4,5,66,2\n",
      "12\n"
     ]
    }
   ],
   "source": [
    "# 5. Write a program to find the second large number in a list.\n",
    "\n",
    "mylist = input()\n",
    "\n",
    "l1 = mylist.split(\",\")\n",
    "\n",
    "l2=[]\n",
    "\n",
    "for i in l1:\n",
    "    l2.append(int(i))\n",
    "    \n",
    "def find_second_largest(l2):\n",
    "    if len(l2) < 2:\n",
    "        return None  # Not enough elements to have a second largest\n",
    "\n",
    "    unique_nums = list(set(l2))  # Remove duplicates\n",
    "    \n",
    "    if len(unique_nums) < 2:\n",
    "        return None  # Not enough unique elements to have a second largest\n",
    "\n",
    "    unique_nums.sort()  # Sort the list\n",
    "    return unique_nums[-2]  # Return the second last element\n",
    "result = find_second_largest(l2)\n",
    "print(result)\n"
   ]
  },
  {
   "cell_type": "code",
   "execution_count": 15,
   "id": "ac67bb1e",
   "metadata": {},
   "outputs": [
    {
     "data": {
      "text/plain": [
       "-16"
      ]
     },
     "execution_count": 15,
     "metadata": {},
     "output_type": "execute_result"
    }
   ],
   "source": [
    "# 6. Write a program to find the second-largest negative number in a list. \n",
    "\n",
    "numbers = [3, -5, -28, 7, -81, 4, -16]\n",
    "\n",
    "l1=[]\n",
    "\n",
    "for i in numbers:\n",
    "    if i <0:\n",
    "        l1.append(i)\n",
    "\n",
    "l1.sort()\n",
    "\n",
    "l1[-2]"
   ]
  },
  {
   "cell_type": "code",
   "execution_count": 16,
   "id": "5e789912",
   "metadata": {},
   "outputs": [
    {
     "name": "stdout",
     "output_type": "stream",
     "text": [
      "test a is this world Hello\n"
     ]
    }
   ],
   "source": [
    "def reverse_words(sentence):\n",
    "    # Split the sentence into words\n",
    "    words = sentence.split()\n",
    "    \n",
    "    # Reverse the order of words\n",
    "    reversed_words = words[::-1]\n",
    "    \n",
    "    # Join the reversed words back into a sentence\n",
    "    reversed_sentence = ' '.join(reversed_words)\n",
    "    \n",
    "    return reversed_sentence\n",
    "\n",
    "# Example usage\n",
    "sentence = \"Hello world this is a test\"\n",
    "result = reverse_words(sentence)\n",
    "print(result)"
   ]
  },
  {
   "cell_type": "code",
   "execution_count": 17,
   "id": "a6938169",
   "metadata": {},
   "outputs": [
    {
     "name": "stdout",
     "output_type": "stream",
     "text": [
      "Rman SFrkdaS\n",
      "UPPER CASE  4\n",
      "LOWER CASE  7\n"
     ]
    }
   ],
   "source": [
    "# 8. Write a program to count the lower and upper case characters in any text or sentence.\n",
    "inp = input()\n",
    "\n",
    "d ={\"uppercase\":0 , \"lowecase\":0}\n",
    "for i in inp:\n",
    "    if i.isupper():\n",
    "        d[\"uppercase\"]=d[\"uppercase\"]+1\n",
    "    elif i.islower():\n",
    "        d[\"lowecase\"]=d[\"lowecase\"]+1\n",
    "print(\"UPPER CASE \", d[\"uppercase\"])\n",
    "print(\"LOWER CASE \", d[\"lowecase\"])"
   ]
  },
  {
   "cell_type": "code",
   "execution_count": 20,
   "id": "0e89c8a8",
   "metadata": {},
   "outputs": [
    {
     "name": "stdout",
     "output_type": "stream",
     "text": [
      "iti\n",
      "Paindrome\n"
     ]
    }
   ],
   "source": [
    "# 9. Check if a String Is a Palindrome\n",
    "\n",
    "inp = input()\n",
    "\n",
    "reverse = inp[::-1]\n",
    "\n",
    "if reverse == inp:\n",
    "    print(\"Paindrome\")\n",
    "else:\n",
    "    print(\"not palindrome\")\n",
    "    "
   ]
  },
  {
   "cell_type": "code",
   "execution_count": null,
   "id": "5880ccc0",
   "metadata": {},
   "outputs": [],
   "source": []
  }
 ],
 "metadata": {
  "kernelspec": {
   "display_name": "Python 3 (ipykernel)",
   "language": "python",
   "name": "python3"
  },
  "language_info": {
   "codemirror_mode": {
    "name": "ipython",
    "version": 3
   },
   "file_extension": ".py",
   "mimetype": "text/x-python",
   "name": "python",
   "nbconvert_exporter": "python",
   "pygments_lexer": "ipython3",
   "version": "3.11.5"
  }
 },
 "nbformat": 4,
 "nbformat_minor": 5
}
